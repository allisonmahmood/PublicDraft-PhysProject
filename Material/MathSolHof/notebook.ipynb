{
 "cells": [
  {
   "cell_type": "markdown",
   "metadata": {},
   "source": [
    "## <center> Hofstadter Butterfly </center> ##"
   ]
  },
  {
   "cell_type": "markdown",
   "metadata": {},
   "source": [
    "We generate a fractal like-structure, called the Hofstadter Butterfly, which represents the energy\n",
    "levels of  an electron travelling through a periodic lattice under the influence of a\n",
    "magnetic field."
   ]
  },
  {
   "cell_type": "markdown",
   "metadata": {},
   "source": [
    "The mathematical model related to the  Hamiltonian of an electron in a two dimensional lattice,\n",
    "subject to a perpendicular (uniform) magnetic field is the Almost Mathieu (AM) operator or Harper operator, which is \n",
    "a discrete one-dimensional operator that acts on the Hilbert space, $\\ell^2(\\mathbb{Z})$, of the infinite sequences. It is defined  by:\n",
    "\n",
    "$$(H_{\\Phi, K, \\theta}u)_n=u_{n+1}+u_{n-1}+K\\cos(n\\Phi +\\theta) u_n, \\quad\\Phi, K, \\theta\\in\\mathbb{R}$$"
   ]
  },
  {
   "cell_type": "markdown",
   "metadata": {},
   "source": [
    "When the magnetic flux  penetrating the lattice corresponds to a rational number $p/q$, i.e.  $\\Phi=2\\pi p/q$, with $p,q$  relative prime integers, the spectrum of the above operator  consists in $q$ bands  (closed intervals) separated by gaps  \n",
    "(*J. Avron, P. H. M. v. Mouche,  B. Simon*, *On the Measure of the Spectrum\n",
    "for the Almost Mathieu Operator, Commun Math Phys 132 (1990), 103-118*). \n",
    " \n",
    " For every  irrational $\\Phi$, and parameter $K>0$, the spectrum of the AM operator is a Cantor set \n",
    " (*A Avila, S Jitomirskaya, The Ten Martini Problem, Annals of math 170 (2009), 303-342*). \n",
    " \n",
    " \n",
    "For  a flux  $\\Phi=2\\pi n p/q$, corresponding to a rational number,  the potential $V_\\theta(n)=K\\cos(2\\pi n p/q+\\theta)$\n",
    "is periodic and the eigenvalue problem:\n",
    "\n",
    "$$(H_{\\Phi, K, \\theta}u)_n=E u_n$$\n",
    "\n",
    "reduces to a matrix eigenvalue problem associated to the following periodic Jacobi matrices, called Harper matrices:\n",
    "\n",
    "$$\n",
    "Ha(p, q, K, \\theta, s)=\\left(\\begin{array}{ccccccc}K\\cos(2\\pi 0 p/q+\\theta)&1 &0&\\ldots&0& 0& s\\\\\n",
    "                       1& K\\cos(2\\pi  p/q+\\theta)&1&\\ldots&0&0&0\\\\\n",
    "                        \\vdots&\\vdots&\\vdots&\\ldots&\\vdots&\\vdots&\\vdots\\\\\n",
    "                         0&0&0&\\ldots&1&K\\cos(2\\pi (q-2) p/q+\\theta)&1\\\\\n",
    "                         s&0&0&\\ldots&0&1&K\\cos(2\\pi (q-1) p/q+\\theta)\\end{array}\\right)$$\n",
    "                         \n",
    "with $s=\\pm 1$.\n",
    "\n",
    "More precisely, the spectrum of the  operator, $\\sigma(H_{2\\pi p/q, K, \\theta})$ is a union of intervals (bands) whose ends are the interlacing eigenvalues of the two Harper type matrices $Ha(p,q, K, \\theta, 1)$,  $Ha(p,q, K, \\theta, -1)$.\n",
    "\n",
    "The eigenvalues  $E_i$, respectively $E'_i$, $i=0, 1, \\ldots, q-1$, of the two matrices can be  ordered as follows:\n",
    "\n",
    "$$E_{2i} < E_{2i+1}\\leq E_{2i+2}, i\\geq 0$$\n",
    "respectively:\n",
    "$$E'_{2i}\\leq E'_{2i+1} < E'_{2i+2}, i\\geq 0$$\n",
    "and the two series are interlaced:\n",
    "\n",
    "$$E_0 < E'_0 \\leq  E'_1 < E_1\\leq E_2<E'_2\\leq \\cdots$$ \n",
    "\n",
    "\n",
    "The Hofstadter butterfly was defined and studied by the physicist Douglas Hofstadter  in 1976. It is a graphical representation   of all possible energies (eigenvalues) of the Harper matrices $H(p,q,s=1)$ corresponding to the  rational values $p/q$ in  [0,1). \n",
    "\n",
    "Hence to get the Hofstadter butterfly we have to plot  all points of coordinates, $(p/q, E_i)$, with $p/q\\in [0,1)$, $i=0, 1, \\ldots q-1$. For each $p/q$,   $E_i$  runs over the q eigenvalues of the Harper matrix,   $Ha(p, q, s)$.\n",
    "\n",
    "For  any $q<qmax$ we should compute the eigenvalues of all matrices $Ha(p, q, s=1)$, with $p\\in \\{1, 2, \\ldots q-1\\}$, such that\n",
    "$p, q$ are relative prime numbers. But since $\\cos$ is an odd $2\\pi$-periodic function,  we have that   \n",
    "\n",
    "$ \\cos(2\\pi n p/q)=\\cos(2\\pi n(q-p)/q) $, and thus\n",
    " $Ha(p, q, s)=Ha(q-p, s)$.\n",
    " \n",
    " Hence  only the spectrum of the Harper matrices $Ha(p, q, s)$, with\n",
    "$p\\in\\{1, 2, \\ldots, q//2\\}$, if $q$ is odd, respectively $p\\in\\{1, 2, \\ldots, q/2-1\\}$, if $q$ is even, are calculated."
   ]
  },
  {
   "cell_type": "code",
   "execution_count": 1,
   "metadata": {},
   "outputs": [
    {
     "name": "stdout",
     "output_type": "stream",
     "text": [
      "Python version: 3.8.10\n"
     ]
    }
   ],
   "source": [
    "import platform\n",
    "print(f'Python version: {platform.python_version()}')"
   ]
  },
  {
   "cell_type": "code",
   "execution_count": 20,
   "metadata": {},
   "outputs": [
    {
     "data": {
      "text/plain": [
       "'5.9.0'"
      ]
     },
     "execution_count": 20,
     "metadata": {},
     "output_type": "execute_result"
    }
   ],
   "source": [
    "import plotly\n",
    "plotly.__version__"
   ]
  },
  {
   "cell_type": "code",
   "execution_count": 21,
   "metadata": {},
   "outputs": [],
   "source": [
    "import plotly.graph_objs as go\n",
    "import numpy as np\n",
    "from numpy import pi"
   ]
  },
  {
   "cell_type": "markdown",
   "metadata": {},
   "source": [
    "We generate the Hofstadter butterfly associated to the Harper operator corresponding to K=2, $\\theta=0$ and s=1 (these parameters were used by Hofstadter himself in the first numerical computation\n",
    "                                                                                                                  of data)."
   ]
  },
  {
   "cell_type": "code",
   "execution_count": 5,
   "metadata": {},
   "outputs": [],
   "source": [
    "def Gear(n, s=1): \n",
    "    # Generates a  Gear-type matrix, i.e. a periodic Jacobi matrix G=(0,..0; 1,...1; +-1), with 0 on the principal diagonal\n",
    "    #  1  in the positions G[i][i+1], G[i-1][i], and G[0][n-1], G[n-1][0]=s with s=1 or -1\n",
    "    \n",
    "    G=np.diag(np.ones(n - 1), -1) + np.diag(np.ones(n - 1), 1)\n",
    "    \n",
    "    G[0][n-1]=s\n",
    "    G[n-1][0]=s\n",
    "    return G\n",
    "\n",
    "\n",
    "def eigs_Harper(p, q, s, K):\n",
    "   \n",
    "    d=[K*np.cos(2*np.pi*m*p/q) for m in range(q)] #define the diagonal of the Harper matrix   Ha(p,q)    \n",
    "    Hd= np.diag(d)\n",
    "    G = Gear(q, s)\n",
    "    \n",
    "    return list(np.linalg.eigvalsh(Hd+G))#eigenvalues of the Harper matrix \n",
    "\n",
    "def gcd(a, b): # Greatest Common Divisor\n",
    "    if b == 0: return a\n",
    "    return gcd(b, a % b)"
   ]
  },
  {
   "cell_type": "code",
   "execution_count": 6,
   "metadata": {},
   "outputs": [],
   "source": [
    "def get_butterfly_points_even(qmax=101,  s=1, K=2):# for  qmax=101 value we define 1036 irreducible fractions p/q, \n",
    "                                             #and compute the eigvals for 1036/2=518 Harper matrices\n",
    " \n",
    "    phi=[]# the list of  of rational magnetic flux values, p/q\n",
    "    E=[]# the list of energies\n",
    "    text=[]# the list of hover strings\n",
    "    #take  all rational numbers p/q of even denominator, q<qmax\n",
    "    for q in range(4, qmax, 2):    \n",
    "        for p in range(1, q//2, 2):\n",
    "            if gcd(p, q) == 1:\n",
    "                phi.extend([p/q]*q+ [(q-p)/q]*q) #insert q copies of  p/q, respectively (q-p)/q, \n",
    "                                           #because the corresponding Harper matrix H(p,q), resp H(q-p, p), has q eigvals\n",
    "                eigs_pq=eigs_Harper(p, q, s, K) \n",
    "                E.extend(eigs_pq*2)           \n",
    "                p_text=[f\"(p, q) = {(p,q)}\"]*q+[f\"(p,q) = {(q-p, q)}\"]*q\n",
    "                text.extend([f\"{t}<br>E = {round(e, 3)}\" for t, e in zip(p_text, eigs_pq*2)])\n",
    "    return phi, E, text"
   ]
  },
  {
   "cell_type": "code",
   "execution_count": 7,
   "metadata": {},
   "outputs": [],
   "source": [
    "def get_butterfly_points_odd(qmax=70, s=1, K=2):\n",
    "\n",
    "    phi=[]\n",
    "    E=[]\n",
    "    text=[]\n",
    "    #take  all rational numbers p/q of odd denominator, q<qmax\n",
    "    for q in range(5, qmax, 1):    \n",
    "        for p in range(1, q//2+1, 1):\n",
    "            if gcd(p, q) == 1:\n",
    "                phi.extend([p/q]*q+ [(q-p)/q]*q) \n",
    "                eigs_pq=eigs_Harper(p, q, s, K) \n",
    "                E.extend(eigs_pq*2)           \n",
    "                p_text=[f\"(p, q) = {(p,q)}\"]*q+[f\"(p,q) = {(q-p, q)}\"]*q\n",
    "                text.extend([f\"{t}<br>E = {round(e, 3)}\" for t, e in zip(p_text, eigs_pq*2)])\n",
    "    return phi, E, text"
   ]
  },
  {
   "cell_type": "code",
   "execution_count": 8,
   "metadata": {},
   "outputs": [],
   "source": [
    "def get_butterfly_trace(phi, E, text, color='rgb(255,215, 0)', marker_size=1):\n",
    "    return dict(type='scatter',\n",
    "                x=phi,\n",
    "                y=E,\n",
    "                mode='markers',\n",
    "                text=text,  \n",
    "                marker=dict(color=color, size=marker_size),\n",
    "                hoverinfo='text')"
   ]
  },
  {
   "cell_type": "markdown",
   "metadata": {},
   "source": [
    "At the first sight the effective computation of the spectrum for many Harper matrices seems to be cumbersome. But with Anaconda Python packages it is very fast, because Anaconda packaged MKL-powered binary versions of some of the most popular numerical/scientific Python libraries into MKL Optimizations that improve performance. (MKL stands for Intel™ Math Kernel Library, a set of vectorized math routines that accelerate math functions).\n"
   ]
  },
  {
   "cell_type": "markdown",
   "metadata": {},
   "source": [
    "Let us test `get_butterfly_points_even()`:"
   ]
  },
  {
   "cell_type": "code",
   "execution_count": 9,
   "metadata": {},
   "outputs": [
    {
     "name": "stdout",
     "output_type": "stream",
     "text": [
      "CPU times: user 1.92 s, sys: 108 ms, total: 2.02 s\n",
      "Wall time: 1.61 s\n"
     ]
    }
   ],
   "source": [
    "%time phi1, E1, text1=get_butterfly_points_even(qmax=101) "
   ]
  },
  {
   "cell_type": "code",
   "execution_count": 10,
   "metadata": {},
   "outputs": [
    {
     "data": {
      "text/plain": [
       "69836"
      ]
     },
     "execution_count": 10,
     "metadata": {},
     "output_type": "execute_result"
    }
   ],
   "source": [
    "len(E1)#points are plotted"
   ]
  },
  {
   "cell_type": "markdown",
   "metadata": {},
   "source": [
    "Generating the butterfly data,  with the function `get_butterfly_points_odd()` and then via `get_butterfly_points_even()`, corresponding both to the same s, we get two indistinguishable plots. \n",
    "\n",
    "The user can experiment plotting the Hofstadter butterfly associated to both data, succesively, or to their union. "
   ]
  },
  {
   "cell_type": "code",
   "execution_count": 11,
   "metadata": {},
   "outputs": [],
   "source": [
    "data=[get_butterfly_trace(phi1, E1, text1)]"
   ]
  },
  {
   "cell_type": "code",
   "execution_count": 12,
   "metadata": {},
   "outputs": [],
   "source": [
    "axis_style=dict(showline=True, \n",
    "                mirror=True, \n",
    "                zeroline=False, \n",
    "                showgrid=False, \n",
    "                ticklen=4)"
   ]
  },
  {
   "cell_type": "code",
   "execution_count": 13,
   "metadata": {},
   "outputs": [],
   "source": [
    "layout=dict(title='Hofstadter butterfly<br> K=2, s=1',\n",
    "            font=dict(family='Balto'),\n",
    "            width=600, height=675,\n",
    "            autosize=False,\n",
    "            showlegend=False,\n",
    "            xaxis=dict(axis_style, **dict( title='Phi (magnetic flux)', dtick=0.25)),\n",
    "            yaxis=dict(axis_style, **dict( title='E (Energy)')),\n",
    "            hovermode='closest',\n",
    "           plot_bgcolor='rgb(10,10,10)')"
   ]
  },
  {
   "cell_type": "code",
   "execution_count": 14,
   "metadata": {},
   "outputs": [],
   "source": [
    "fw=go.FigureWidget(data=data, layout=layout)"
   ]
  },
  {
   "cell_type": "code",
   "execution_count": 15,
   "metadata": {},
   "outputs": [
    {
     "data": {
      "application/vnd.jupyter.widget-view+json": {
       "model_id": "dcc1aa16b54a4f1e9a0deff95ec00296",
       "version_major": 2,
       "version_minor": 0
      },
      "text/plain": [
       "FigureWidget({\n",
       "    'data': [{'hoverinfo': 'text',\n",
       "              'marker': {'color': 'rgb(255,215, 0)', 'size':…"
      ]
     },
     "metadata": {},
     "output_type": "display_data"
    }
   ],
   "source": [
    "fw # running this cell  the FigureWidget is plotted in the next one"
   ]
  },
  {
   "cell_type": "markdown",
   "metadata": {},
   "source": [
    "An alternative is to send the figure to Plotly cloud:"
   ]
  },
  {
   "cell_type": "code",
   "execution_count": 16,
   "metadata": {},
   "outputs": [
    {
     "ename": "ImportError",
     "evalue": "\nThe plotly.plotly module is deprecated,\nplease install the chart-studio package and use the\nchart_studio.plotly module instead. \n",
     "output_type": "error",
     "traceback": [
      "\u001b[0;31m---------------------------------------------------------------------------\u001b[0m",
      "\u001b[0;31mImportError\u001b[0m                               Traceback (most recent call last)",
      "\u001b[0;32m<ipython-input-16-8e22b91ab79a>\u001b[0m in \u001b[0;36m<module>\u001b[0;34m\u001b[0m\n\u001b[0;32m----> 1\u001b[0;31m \u001b[0;32mimport\u001b[0m \u001b[0mplotly\u001b[0m\u001b[0;34m.\u001b[0m\u001b[0mplotly\u001b[0m \u001b[0;32mas\u001b[0m \u001b[0mpy\u001b[0m\u001b[0;34m\u001b[0m\u001b[0;34m\u001b[0m\u001b[0m\n\u001b[0m\u001b[1;32m      2\u001b[0m \u001b[0;34m\u001b[0m\u001b[0m\n\u001b[1;32m      3\u001b[0m \u001b[0;32mimport\u001b[0m \u001b[0mwarnings\u001b[0m\u001b[0;34m\u001b[0m\u001b[0;34m\u001b[0m\u001b[0m\n\u001b[1;32m      4\u001b[0m \u001b[0mwarnings\u001b[0m\u001b[0;34m.\u001b[0m\u001b[0mfilterwarnings\u001b[0m\u001b[0;34m(\u001b[0m\u001b[0;34m\"ignore\"\u001b[0m\u001b[0;34m)\u001b[0m\u001b[0;34m\u001b[0m\u001b[0;34m\u001b[0m\u001b[0m\n\u001b[1;32m      5\u001b[0m \u001b[0;34m\u001b[0m\u001b[0m\n",
      "\u001b[0;32m~/anaconda3/lib/python3.8/site-packages/plotly/plotly/__init__.py\u001b[0m in \u001b[0;36m<module>\u001b[0;34m\u001b[0m\n\u001b[1;32m      2\u001b[0m \u001b[0;32mfrom\u001b[0m \u001b[0m_plotly_future_\u001b[0m \u001b[0;32mimport\u001b[0m \u001b[0m_chart_studio_error\u001b[0m\u001b[0;34m\u001b[0m\u001b[0;34m\u001b[0m\u001b[0m\n\u001b[1;32m      3\u001b[0m \u001b[0;34m\u001b[0m\u001b[0m\n\u001b[0;32m----> 4\u001b[0;31m \u001b[0m_chart_studio_error\u001b[0m\u001b[0;34m(\u001b[0m\u001b[0;34m\"plotly\"\u001b[0m\u001b[0;34m)\u001b[0m\u001b[0;34m\u001b[0m\u001b[0;34m\u001b[0m\u001b[0m\n\u001b[0m",
      "\u001b[0;32m~/anaconda3/lib/python3.8/site-packages/_plotly_future_/__init__.py\u001b[0m in \u001b[0;36m_chart_studio_error\u001b[0;34m(submodule)\u001b[0m\n\u001b[1;32m     41\u001b[0m \u001b[0;34m\u001b[0m\u001b[0m\n\u001b[1;32m     42\u001b[0m \u001b[0;32mdef\u001b[0m \u001b[0m_chart_studio_error\u001b[0m\u001b[0;34m(\u001b[0m\u001b[0msubmodule\u001b[0m\u001b[0;34m)\u001b[0m\u001b[0;34m:\u001b[0m\u001b[0;34m\u001b[0m\u001b[0;34m\u001b[0m\u001b[0m\n\u001b[0;32m---> 43\u001b[0;31m     raise ImportError(\n\u001b[0m\u001b[1;32m     44\u001b[0m         \"\"\"\n\u001b[1;32m     45\u001b[0m \u001b[0mThe\u001b[0m \u001b[0mplotly\u001b[0m\u001b[0;34m.\u001b[0m\u001b[0;34m{\u001b[0m\u001b[0msubmodule\u001b[0m\u001b[0;34m}\u001b[0m \u001b[0mmodule\u001b[0m \u001b[0;32mis\u001b[0m \u001b[0mdeprecated\u001b[0m\u001b[0;34m,\u001b[0m\u001b[0;34m\u001b[0m\u001b[0;34m\u001b[0m\u001b[0m\n",
      "\u001b[0;31mImportError\u001b[0m: \nThe plotly.plotly module is deprecated,\nplease install the chart-studio package and use the\nchart_studio.plotly module instead. \n"
     ]
    }
   ],
   "source": [
    "import plotly.plotly as py\n",
    "\n",
    "import warnings\n",
    "warnings.filterwarnings(\"ignore\")\n",
    "\n",
    "py.sign_in('empet', '')\n",
    "py.iplot(fw, filename='Hofstadter1')"
   ]
  },
  {
   "cell_type": "markdown",
   "metadata": {},
   "source": [
    "It's naturally to ask yourself  how behaves the spectrum of the associated Harper-type matrix, $H(p,q, s=-1)$.\n",
    "Taking into account the interlacing property mentioned above we expect to get also a butterfly.\n",
    "\n",
    "Let us plot it:"
   ]
  },
  {
   "cell_type": "code",
   "execution_count": 17,
   "metadata": {},
   "outputs": [],
   "source": [
    "phi_m1, E_m1, text_m1=get_butterfly_points_even(qmax=101, s=-1)\n",
    "data1=[get_butterfly_trace(phi_m1, E_m1, text_m1, color='rgb(192,192,192)')]\n",
    "fw1=go.FigureWidget(data=data1, layout=layout)\n",
    "fw1.layout.title='Hofstadter butterfly<br> s = -1, K=2'"
   ]
  },
  {
   "cell_type": "code",
   "execution_count": 18,
   "metadata": {},
   "outputs": [
    {
     "data": {
      "application/vnd.jupyter.widget-view+json": {
       "model_id": "68efa4fafb7e4d2ebe9d5d3981bf6e0c",
       "version_major": 2,
       "version_minor": 0
      },
      "text/plain": [
       "FigureWidget({\n",
       "    'data': [{'hoverinfo': 'text',\n",
       "              'marker': {'color': 'rgb(192,192,192)', 'size'…"
      ]
     },
     "metadata": {},
     "output_type": "display_data"
    }
   ],
   "source": [
    "fw1"
   ]
  },
  {
   "cell_type": "code",
   "execution_count": 19,
   "metadata": {},
   "outputs": [
    {
     "ename": "NameError",
     "evalue": "name 'py' is not defined",
     "output_type": "error",
     "traceback": [
      "\u001b[0;31m---------------------------------------------------------------------------\u001b[0m",
      "\u001b[0;31mNameError\u001b[0m                                 Traceback (most recent call last)",
      "\u001b[0;32m<ipython-input-19-d8aa9a938eda>\u001b[0m in \u001b[0;36m<module>\u001b[0;34m\u001b[0m\n\u001b[0;32m----> 1\u001b[0;31m \u001b[0mpy\u001b[0m\u001b[0;34m.\u001b[0m\u001b[0miplot\u001b[0m\u001b[0;34m(\u001b[0m\u001b[0mfw1\u001b[0m\u001b[0;34m,\u001b[0m \u001b[0mfilename\u001b[0m\u001b[0;34m=\u001b[0m\u001b[0;34m'Hofstadterm1'\u001b[0m\u001b[0;34m)\u001b[0m\u001b[0;34m\u001b[0m\u001b[0;34m\u001b[0m\u001b[0m\n\u001b[0m",
      "\u001b[0;31mNameError\u001b[0m: name 'py' is not defined"
     ]
    }
   ],
   "source": [
    "py.iplot(fw1, filename='Hofstadterm1')"
   ]
  },
  {
   "cell_type": "markdown",
   "metadata": {},
   "source": [
    "The two butterflies  look very similar. Even if we plot them in the same figure, we cannot distinguish the gold points from the silver ones,\n",
    "because the distance between two consecutive eigenvalues, one in H(p,q, s=1) and another in H(p,q, s=-1) is very small."
   ]
  },
  {
   "cell_type": "markdown",
   "metadata": {},
   "source": [
    "For example:"
   ]
  },
  {
   "cell_type": "code",
   "execution_count": 22,
   "metadata": {},
   "outputs": [
    {
     "data": {
      "text/plain": [
       "[-2.6981836974788673,\n",
       " -2.5020506851215116,\n",
       " -2.4363187022725965,\n",
       " -0.677899036540285,\n",
       " -0.2536753455832333,\n",
       " 0.253675345583233,\n",
       " 0.677899036540284,\n",
       " 2.436318702272596,\n",
       " 2.502050685121513,\n",
       " 2.6981836974788678]"
      ]
     },
     "execution_count": 22,
     "metadata": {},
     "output_type": "execute_result"
    }
   ],
   "source": [
    "eigs_Harper(3, 10, 1, 2)"
   ]
  },
  {
   "cell_type": "code",
   "execution_count": 23,
   "metadata": {},
   "outputs": [
    {
     "data": {
      "text/plain": [
       "[-2.6855101651628446,\n",
       " -2.548514947921553,\n",
       " -2.4002118113237865,\n",
       " -0.7089410427986518,\n",
       " -0.17173401423357335,\n",
       " 0.17173401423357168,\n",
       " 0.708941042798651,\n",
       " 2.400211811323789,\n",
       " 2.548514947921556,\n",
       " 2.6855101651628446]"
      ]
     },
     "execution_count": 23,
     "metadata": {},
     "output_type": "execute_result"
    }
   ],
   "source": [
    "eigs_Harper(3, 10, -1, 2)"
   ]
  },
  {
   "cell_type": "markdown",
   "metadata": {},
   "source": [
    "Define data for plotting both above Hofstadter butterflies on the same figure. "
   ]
  },
  {
   "cell_type": "code",
   "execution_count": 24,
   "metadata": {},
   "outputs": [],
   "source": [
    "data_global=[get_butterfly_trace(phi1, E1, text1, color='rgb(192,192,192)'), \n",
    "             get_butterfly_trace(phi_m1, E_m1, text_m1, color='rgb(255,215,0)')]\n",
    "fw_global=go.FigureWidget(data=data_global, layout=layout)\n",
    "fw_global.layout.title='Hofstadter Butterfly'"
   ]
  },
  {
   "cell_type": "code",
   "execution_count": null,
   "metadata": {},
   "outputs": [],
   "source": [
    "fw_global"
   ]
  },
  {
   "cell_type": "markdown",
   "metadata": {},
   "source": [
    "\n",
    "The most known and recommended algorithm on physics.stackexchange, math.stackexchange, for computing the points on the Hofstadter butterfly consists in reducing the Harper matrix to a tridiagonal form and then\n",
    "using a recursive formula to get its characteristic polynomial. This algorithm is presented in the book *W Kinzel/G Reents, Physics by Computer, Springer Verlag*. Moreover for its drawing as a raster image of resolution 500 x 500 or so, the authors suggest to map each pixel to a point $(a, E)$ in the rectangle $[0,1]\\times [-4,4]$, and then to evaluate two consecutive polynomials from the recursive formula  at this point. If the corresponding values  satisfy some condition  one decides  that the pixel mapped to $(a, E)$ is on  the Hofstadter butterfly. \n",
    "\n",
    "The Java, respectively the Python implementation of this algorithm can be found \n",
    "[here](https://web.archive.org/web/20010528223855/http://wptx15.physik.uni-wuerzburg.de/TP3/source_java/hofstadter.java), and \n",
    "[here](http://code.activestate.com/recipes/578670-hofstadter-butterfly-fractal/). \n",
    "\n",
    "This algorithm is computationally expensive. To ckeck it just run the above Python implementation.\n",
    "\n",
    "The method presented in this notebook is simple and straightforward, because  we generate a  SVG  image (i.e. a vector image), and no (approximative) mapping of a grid (raster image) to the real rectangle is needed. Moreover we get a performance benefit from Intel MKL provided by Anaconda."
   ]
  },
  {
   "cell_type": "code",
   "execution_count": null,
   "metadata": {},
   "outputs": [],
   "source": []
  },
  {
   "cell_type": "code",
   "execution_count": null,
   "metadata": {},
   "outputs": [],
   "source": []
  }
 ],
 "metadata": {
  "kernelspec": {
   "display_name": "Python 3.8.10 ('base')",
   "language": "python",
   "name": "python3"
  },
  "language_info": {
   "codemirror_mode": {
    "name": "ipython",
    "version": 3
   },
   "file_extension": ".py",
   "mimetype": "text/x-python",
   "name": "python",
   "nbconvert_exporter": "python",
   "pygments_lexer": "ipython3",
   "version": "3.8.10"
  },
  "vscode": {
   "interpreter": {
    "hash": "e2a92f486aaf76ad00501f606e2026cb447cf9347bea6492a4f338c3126f8d0d"
   }
  }
 },
 "nbformat": 4,
 "nbformat_minor": 2
}
